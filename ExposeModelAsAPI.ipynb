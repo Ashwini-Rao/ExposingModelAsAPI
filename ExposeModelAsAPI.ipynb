{
 "cells": [
  {
   "cell_type": "markdown",
   "metadata": {},
   "source": [
    "# Why Expose A Model As API?\n",
    "\n",
    "R is widely used for data science and deploying models into production. The end users are typically IT and enterprise software that need to consume solutions that can be easily integrated with their software.\n",
    "\n",
    "You can replicate the code into other programming languages used widely around the world by software developers but here lies the problem - Majority of the programming languages do not have libraries to perform ML!!!\n",
    "\n",
    "So one good solution is to expose the model as API. The most common type of API is REST/RESTful API. REST APIs allow two applications to talk to each other over the Internet using HTTP as their protocol. In simpler terms, they deliver the requests from the client to the server (specified in the URL) and then deliver the responses (as requested in the method - GET, PUT, POST) back to the client.\n",
    "\n",
    "By exposing the R Model as API, we can let other applications to use model for the purposes it is designed for without having to worry about the underlying environment/architecture."
   ]
  },
  {
   "cell_type": "markdown",
   "metadata": {},
   "source": [
    "# Using Rest APIs to Expose Model as a Service\n",
    "\n",
    "Do we have a package in R to help us with this? The answer is yes. Which one? The answer is **\"Plumber\"**\n",
    "\n",
    "Plumber is straightforward and easy to use. It is an open source package that lets you create APIs by decorating the R functions with special annotations/comments. Comments can be prefixed with \"#'\" or \"#*\". \n",
    "\"#'\" is recommended."
   ]
  },
  {
   "cell_type": "markdown",
   "metadata": {},
   "source": [
    "To read more, refer **[rplumber](https://www.rplumber.io/)**\n"
   ]
  },
  {
   "cell_type": "markdown",
   "metadata": {},
   "source": [
    "To start using it, type :"
   ]
  },
  {
   "cell_type": "code",
   "execution_count": 1,
   "metadata": {},
   "outputs": [],
   "source": [
    "library(\"plumber\")"
   ]
  },
  {
   "cell_type": "markdown",
   "metadata": {},
   "source": [
    "Before we can start using Plumber to create APIs, we need a trained ML model.\n",
    "Let's begin with training a simple model for the **[Classic Titanic problem from Kaggle](https://www.kaggle.com/c/titanic/data)** which predicts the Survival on the Titanic."
   ]
  },
  {
   "cell_type": "code",
   "execution_count": 3,
   "metadata": {},
   "outputs": [
    {
     "name": "stdout",
     "output_type": "stream",
     "text": [
      "'data.frame':\t891 obs. of  12 variables:\n",
      " $ PassengerId: int  1 2 3 4 5 6 7 8 9 10 ...\n",
      " $ Survived   : int  0 1 1 1 0 0 0 0 1 1 ...\n",
      " $ Pclass     : int  3 1 3 1 3 3 1 3 3 2 ...\n",
      " $ Name       : Factor w/ 891 levels \"Abbing, Mr. Anthony\",..: 109 191 358 277 16 559 520 629 417 581 ...\n",
      " $ Sex        : Factor w/ 2 levels \"female\",\"male\": 2 1 1 1 2 2 2 2 1 1 ...\n",
      " $ Age        : num  22 38 26 35 35 NA 54 2 27 14 ...\n",
      " $ SibSp      : int  1 1 0 1 0 0 0 3 0 1 ...\n",
      " $ Parch      : int  0 0 0 0 0 0 0 1 2 0 ...\n",
      " $ Ticket     : Factor w/ 681 levels \"110152\",\"110413\",..: 524 597 670 50 473 276 86 396 345 133 ...\n",
      " $ Fare       : num  7.25 71.28 7.92 53.1 8.05 ...\n",
      " $ Cabin      : Factor w/ 148 levels \"\",\"A10\",\"A14\",..: 1 83 1 57 1 1 131 1 1 1 ...\n",
      " $ Embarked   : Factor w/ 4 levels \"\",\"C\",\"Q\",\"S\": 4 2 4 4 4 3 4 4 4 2 ...\n"
     ]
    }
   ],
   "source": [
    "#Read the dataset\n",
    "titanic_data <- read.csv(\"dataset/train.csv\")\n",
    "\n",
    "#View the data types of variables\n",
    "str(titanic_data)\n",
    "\n",
    "#Preprocess the data, i.e clean the NA/missing values, convert all variables to factor \n",
    "#variables and include only the significant variables in the model.\n",
    "changeTitanicData <- function(input_titantic_data) {\n",
    "  cleaned_titanic_data <- data.frame(\n",
    "    Survived = factor(input_titantic_data$Survived, levels = c(0, 1)),  \n",
    "    Sex = factor(input_titantic_data$Sex, levels = c(\"male\", \"female\")),\n",
    "    Pclass = factor(input_titantic_data$Pclass, levels = c(\"1\", \"2\", \"3\")),\n",
    "    Age = factor(dplyr::if_else(input_titantic_data$Age < 18, \"child\", \"adult\", \"NA\"), \n",
    "                  levels = c(\"child\", \"adult\", \"NA\"))\n",
    "    )\n",
    "}\n",
    "\n",
    "processed_titanic_data <- changeTitanicData(titanic_data) \n"
   ]
  },
  {
   "cell_type": "code",
   "execution_count": 4,
   "metadata": {},
   "outputs": [],
   "source": [
    "#Split the data into 2 sets - train and test\n",
    "split_set <- sample(1:nrow(processed_titanic_data), size = floor(0.7*nrow(processed_titanic_data)))\n",
    "train_set <- processed_titanic_data[split_set, ]\n",
    "test_set <- processed_titanic_data[-split_set, ]"
   ]
  },
  {
   "cell_type": "code",
   "execution_count": 5,
   "metadata": {},
   "outputs": [
    {
     "name": "stderr",
     "output_type": "stream",
     "text": [
      "randomForest 4.6-14\n",
      "Type rfNews() to see new features/changes/bug fixes.\n"
     ]
    }
   ],
   "source": [
    "#Train the model using RandomForest algorithm\n",
    "#Install 'RandomForest' package. Only for the first time \n",
    "#install.packages('randomForest')\n",
    "library(randomForest)\n",
    "\n",
    "set.seed(415)\n",
    "titanic_rf <- randomForest(Survived ~ Sex + Pclass + Age, data = train_set, importance = TRUE, na.action = NULL)"
   ]
  },
  {
   "cell_type": "code",
   "execution_count": 14,
   "metadata": {},
   "outputs": [
    {
     "data": {
      "text/plain": [
       "Confusion Matrix and Statistics\n",
       "\n",
       "          Reference\n",
       "Prediction   0   1\n",
       "         0 162  43\n",
       "         1   6  57\n",
       "                                          \n",
       "               Accuracy : 0.8172          \n",
       "                 95% CI : (0.7656, 0.8616)\n",
       "    No Information Rate : 0.6269          \n",
       "    P-Value [Acc > NIR] : 9.218e-12       \n",
       "                                          \n",
       "                  Kappa : 0.5775          \n",
       " Mcnemar's Test P-Value : 2.706e-07       \n",
       "                                          \n",
       "            Sensitivity : 0.9643          \n",
       "            Specificity : 0.5700          \n",
       "         Pos Pred Value : 0.7902          \n",
       "         Neg Pred Value : 0.9048          \n",
       "             Prevalence : 0.6269          \n",
       "         Detection Rate : 0.6045          \n",
       "   Detection Prevalence : 0.7649          \n",
       "      Balanced Accuracy : 0.7671          \n",
       "                                          \n",
       "       'Positive' Class : 0               \n",
       "                                          "
      ]
     },
     "metadata": {},
     "output_type": "display_data"
    },
    {
     "data": {
      "text/plain": [
       "              Reference\n",
       "Prediction     Not Survived Survived\n",
       "  Not Survived          162       43\n",
       "  Survived                6       57"
      ]
     },
     "metadata": {},
     "output_type": "display_data"
    },
    {
     "name": "stdout",
     "output_type": "stream",
     "text": [
      "[1] \"Accuracy: 81.72%\"\n"
     ]
    },
    {
     "data": {
      "image/png": "[encoded data removed]",
      "text/plain": [
       "plot without title"
      ]
     },
     "metadata": {},
     "output_type": "display_data"
    }
   ],
   "source": [
    "#Evaluate the model\n",
    "test_predict_titanic <- predict(titanic_rf, newdata = test_set, type = \"response\") \n",
    "\n",
    "library(caret)\n",
    "#Plot Confusion Matrix\n",
    "confusionMatrix(test_predict_titanic, test_set$Survived)\n",
    "\n",
    "lvs <- c(\"Survived\", \"Not Survived\")\n",
    "truth <- factor(rep(lvs, times = c(100,168)), levels = rev(lvs))\n",
    "pred <- factor(c(rep(lvs, times = c(57,43)), rep(lvs, times = c(6, 162))), levels = rev(lvs))\n",
    "xtab <- table(pred, truth)\n",
    "cm <- confusionMatrix(pred, truth)\n",
    "cm$table\n",
    "options(repr.plot.width=6, repr.plot.height=6)\n",
    "fourfoldplot(cm$table, color = c(\"yellow\", \"red\"), conf.level = 0, margin = 1, main = \"Confusion Matrix\")\n",
    "#Model Accuracy\n",
    "msg <- paste0(\"Accuracy: \", round(100 * sum(diag(cm$table))/sum(cm$table), 2), \"%\")\n",
    "print(msg)"
   ]
  },
  {
   "cell_type": "code",
   "execution_count": 10,
   "metadata": {},
   "outputs": [],
   "source": [
    "#Save the model, can be loaded into a variable\n",
    "saveRDS(titanic_rf, file = \"random_forest_titanic_model.Rds\", compress = TRUE)"
   ]
  },
  {
   "cell_type": "markdown",
   "metadata": {},
   "source": [
    "# Creating Plumber APIs\n",
    "\n",
    "Plumber uses two files:\n",
    "1. A file containing the API endpoint definitions, i.e the functions/model that you want to expose.\n",
    "2. A server file also called router, i.e one that reads these definitions and spins up a web server to process the request.\n",
    "\n",
    "**How does Plumber work?**\n",
    "Plumber has two distinct functions to process the incoming HTTP request:\n",
    "1. **Endpoints-** \n",
    "    It can be viewed as a process encapsulating the logic responsible for generating the response.\n",
    "\n",
    "2. **Filters-**\n",
    "    It can be viewed as a pipeline for handling the incoming request. It can do the following 3 things as part of     request handling:\n",
    "    (a)Forward the request to next filter or endpoint.\n",
    "    (b)Throw an error\n",
    "    (c)Return the response by itself, not forward\n",
    "\n",
    "When a HTTP request is received, Plumber passes the request to all the defined filters. Once the request has processed/handled by the filters, Plumber router looks for an endpoint that can satisfy the request. If it finds one, that endpoint is invoked and the value returned by the endpoint is returned as the response. If no endpoint is available to process the request, the standard HTTP error 404 is returned. To read more, refer **[Routing and Input](https://www.rplumber.io/docs/routing-and-input.html)**.\n",
    "    \n",
    "Let's start by creating the API file (titanic_API.R). This file includes special annotations as mentioned earlier. The functions defined below it are exposed as API. "
   ]
  },
  {
   "cell_type": "code",
   "execution_count": 15,
   "metadata": {},
   "outputs": [
    {
     "data": {
      "text/html": [
       "<pre class=language-r><code>function () \n",
       "{\n",
       "<span style=white-space:pre-wrap>    \"&lt;html&gt;\\n    &lt;h1&gt;&lt;center&gt;\\n    &lt;b&gt;Predicting Survival on Titanic dataset using Random Forest&lt;/b&gt;&lt;/center&gt;\\n    &lt;/h1&gt;\\n\\n    &lt;body&gt;\\n      &lt;/br&gt;\\n      &lt;p&gt;This model predicts the Survival probability of the passengers on Titanic given the \\n        Age (in years), Sex (male/female) and Pclass (ticket class).&lt;/p&gt;\\n      &lt;p&gt;It also outputs the model accuracy.&lt;/p&gt;\\n      &lt;/br&gt;&lt;/br&gt;\\n      &lt;p&gt;Provide the the following inputs :&lt;/p&gt;\\n      &lt;p&gt;Sex = male/female&lt;/p&gt;\\n      &lt;p&gt;Pclass = 1/2/3&lt;/p&gt;\\n      &lt;p&gt;Age = number between 0 to 100 or NA if Age is unknown&lt;/p&gt;\\n      &lt;/br&gt;&lt;/br&gt;\\n      &lt;p&gt;What can you expect?&lt;/p&gt;\\n      &lt;p&gt;Survival Probability, a value &lt;b&gt;0&lt;/b&gt; (not survived) or &lt;b&gt;1&lt;/b&gt; (survived)&lt;/p&gt;\\n      &lt;p&gt;Model Accuracy in %&lt;/p&gt;\\n    &lt;/body&gt;\\n\\n  &lt;/html&gt;\"</span>\n",
       "}</code></pre>"
      ],
      "text/latex": [
       "\\begin{minted}{r}\n",
       "function () \n",
       "\\{\n",
       "    \"<html>\\textbackslash{}n    <h1><center>\\textbackslash{}n    <b>Predicting Survival on Titanic dataset using Random Forest</b></center>\\textbackslash{}n    </h1>\\textbackslash{}n\\textbackslash{}n    <body>\\textbackslash{}n      </br>\\textbackslash{}n      <p>This model predicts the Survival probability of the passengers on Titanic given the \\textbackslash{}n        Age (in years), Sex (male/female) and Pclass (ticket class).</p>\\textbackslash{}n      <p>It also outputs the model accuracy.</p>\\textbackslash{}n      </br></br>\\textbackslash{}n      <p>Provide the the following inputs :</p>\\textbackslash{}n      <p>Sex = male/female</p>\\textbackslash{}n      <p>Pclass = 1/2/3</p>\\textbackslash{}n      <p>Age = number between 0 to 100 or NA if Age is unknown</p>\\textbackslash{}n      </br></br>\\textbackslash{}n      <p>What can you expect?</p>\\textbackslash{}n      <p>Survival Probability, a value <b>0</b> (not survived) or <b>1</b> (survived)</p>\\textbackslash{}n      <p>Model Accuracy in \\%</p>\\textbackslash{}n    </body>\\textbackslash{}n\\textbackslash{}n  </html>\"\n",
       "\\}\n",
       "\\end{minted}"
      ],
      "text/markdown": [
       "```r\n",
       "function () \n",
       "{\n",
       "    \"<html>\\n    <h1><center>\\n    <b>Predicting Survival on Titanic dataset using Random Forest</b></center>\\n    </h1>\\n\\n    <body>\\n      </br>\\n      <p>This model predicts the Survival probability of the passengers on Titanic given the \\n        Age (in years), Sex (male/female) and Pclass (ticket class).</p>\\n      <p>It also outputs the model accuracy.</p>\\n      </br></br>\\n      <p>Provide the the following inputs :</p>\\n      <p>Sex = male/female</p>\\n      <p>Pclass = 1/2/3</p>\\n      <p>Age = number between 0 to 100 or NA if Age is unknown</p>\\n      </br></br>\\n      <p>What can you expect?</p>\\n      <p>Survival Probability, a value <b>0</b> (not survived) or <b>1</b> (survived)</p>\\n      <p>Model Accuracy in %</p>\\n    </body>\\n\\n  </html>\"\n",
       "}\n",
       "```"
      ],
      "text/plain": [
       "function(){\n",
       "  \"<html>\n",
       "    <h1><center>\n",
       "    <b>Predicting Survival on Titanic dataset using Random Forest</b></center>\n",
       "    </h1>\n",
       "\n",
       "    <body>\n",
       "      </br>\n",
       "      <p>This model predicts the Survival probability of the passengers on Titanic given the \n",
       "        Age (in years), Sex (male/female) and Pclass (ticket class).</p>\n",
       "      <p>It also outputs the model accuracy.</p>\n",
       "      </br></br>\n",
       "      <p>Provide the the following inputs :</p>\n",
       "      <p>Sex = male/female</p>\n",
       "      <p>Pclass = 1/2/3</p>\n",
       "      <p>Age = number between 0 to 100 or NA if Age is unknown</p>\n",
       "      </br></br>\n",
       "      <p>What can you expect?</p>\n",
       "      <p>Survival Probability, a value <b>0</b> (not survived) or <b>1</b> (survived)</p>\n",
       "      <p>Model Accuracy in %</p>\n",
       "    </body>\n",
       "\n",
       "  </html>\"\n",
       "}"
      ]
     },
     "metadata": {},
     "output_type": "display_data"
    },
    {
     "data": {
      "text/html": [
       "<pre class=language-r><code>function () \n",
       "{\n",
       "<span style=white-space:pre-wrap>    library(caret)</span>\n",
       "<span style=white-space:pre-wrap>    cm &lt;- confusionMatrix(test_predict_titanic, test_set$Survived)</span>\n",
       "<span style=white-space:pre-wrap>    lvs &lt;- c(\"Survived\", \"Not Survived\")</span>\n",
       "<span style=white-space:pre-wrap>    truth &lt;- factor(rep(lvs, times = c(109, 159)), levels = rev(lvs))</span>\n",
       "<span style=white-space:pre-wrap>    pred &lt;- factor(c(rep(lvs, times = c(52, 57)), rep(lvs, times = c(9, </span>\n",
       "<span style=white-space:pre-wrap>        150))), levels = rev(lvs))</span>\n",
       "<span style=white-space:pre-wrap>    xtab &lt;- table(pred, truth)</span>\n",
       "<span style=white-space:pre-wrap>    cm &lt;- confusionMatrix(pred, truth)</span>\n",
       "<span style=white-space:pre-wrap>    cm$table</span>\n",
       "<span style=white-space:pre-wrap>    fourfoldplot(cm$table, color = c(\"yellow\", \"red\"), conf.level = 0, </span>\n",
       "<span style=white-space:pre-wrap>        margin = 1, main = \"Confusion Matrix\")</span>\n",
       "}</code></pre>"
      ],
      "text/latex": [
       "\\begin{minted}{r}\n",
       "function () \n",
       "\\{\n",
       "    library(caret)\n",
       "    cm <- confusionMatrix(test\\_predict\\_titanic, test\\_set\\$Survived)\n",
       "    lvs <- c(\"Survived\", \"Not Survived\")\n",
       "    truth <- factor(rep(lvs, times = c(109, 159)), levels = rev(lvs))\n",
       "    pred <- factor(c(rep(lvs, times = c(52, 57)), rep(lvs, times = c(9, \n",
       "        150))), levels = rev(lvs))\n",
       "    xtab <- table(pred, truth)\n",
       "    cm <- confusionMatrix(pred, truth)\n",
       "    cm\\$table\n",
       "    fourfoldplot(cm\\$table, color = c(\"yellow\", \"red\"), conf.level = 0, \n",
       "        margin = 1, main = \"Confusion Matrix\")\n",
       "\\}\n",
       "\\end{minted}"
      ],
      "text/markdown": [
       "```r\n",
       "function () \n",
       "{\n",
       "    library(caret)\n",
       "    cm <- confusionMatrix(test_predict_titanic, test_set$Survived)\n",
       "    lvs <- c(\"Survived\", \"Not Survived\")\n",
       "    truth <- factor(rep(lvs, times = c(109, 159)), levels = rev(lvs))\n",
       "    pred <- factor(c(rep(lvs, times = c(52, 57)), rep(lvs, times = c(9, \n",
       "        150))), levels = rev(lvs))\n",
       "    xtab <- table(pred, truth)\n",
       "    cm <- confusionMatrix(pred, truth)\n",
       "    cm$table\n",
       "    fourfoldplot(cm$table, color = c(\"yellow\", \"red\"), conf.level = 0, \n",
       "        margin = 1, main = \"Confusion Matrix\")\n",
       "}\n",
       "```"
      ],
      "text/plain": [
       "function()\n",
       "{\n",
       "  library(caret)\n",
       "  cm <- confusionMatrix(test_predict_titanic, test_set$Survived)\n",
       "  lvs <- c(\"Survived\", \"Not Survived\")\n",
       "  truth <- factor(rep(lvs, times = c(109,159)), levels = rev(lvs))\n",
       "  pred <- factor(c(rep(lvs, times = c(52, 57)), rep(lvs, times = c(9, 150))), levels = rev(lvs))\n",
       "  xtab <- table(pred, truth)\n",
       "  cm <- confusionMatrix(pred, truth)\n",
       "  cm$table\n",
       "  fourfoldplot(cm$table, color = c(\"yellow\", \"red\"), conf.level = 0, margin = 1, main = \"Confusion Matrix\")\n",
       "}"
      ]
     },
     "metadata": {},
     "output_type": "display_data"
    }
   ],
   "source": [
    "#titanic_API.R\n",
    "\n",
    "library(\"plumber\")\n",
    "titanic_model <- readRDS(\"random_forest_titanic_model.Rds\")\n",
    "\n",
    "#' Landing Page with a description\n",
    "#' @get /welcome\n",
    "#' @html\n",
    "function(){\n",
    "  \"<html>\n",
    "    <h1><center>\n",
    "    <b>Predicting Survival on Titanic dataset using Random Forest</b></center>\n",
    "    </h1>\n",
    "\n",
    "    <body>\n",
    "      </br>\n",
    "      <p>This model predicts the Survival probability of the passengers on Titanic given the \n",
    "        Age (in years), Sex (male/female) and Pclass (ticket class).</p>\n",
    "      <p>It also outputs the model accuracy.</p>\n",
    "      </br></br>\n",
    "      <p>Provide the the following inputs :</p>\n",
    "      <p>Sex = male/female</p>\n",
    "      <p>Pclass = 1/2/3</p>\n",
    "      <p>Age = number between 0 to 100 or NA if Age is unknown</p>\n",
    "      </br></br>\n",
    "      <p>What can you expect?</p>\n",
    "      <p>Survival Probability, a value <b>0</b> (not survived) or <b>1</b> (survived)</p>\n",
    "      <p>Model Accuracy in %</p>\n",
    "    </body>\n",
    "\n",
    "  </html>\"\n",
    "}\n",
    "\n",
    "#Transforming the input parameters\n",
    "transformTitanicData <- function(input_titantic_data) {\n",
    "    cleaned_titanic_data <- data.frame(\n",
    "    Sex = factor(input_titantic_data$Sex, levels = c(\"male\", \"female\")),\n",
    "    Pclass = factor(input_titantic_data$Pclass, levels = c(\"1\", \"2\", \"3\")),\n",
    "    Age = factor(dplyr::if_else(input_titantic_data$Age < 18, \"child\", \"adult\", \"NA\"), \n",
    "                 levels = c(\"child\", \"adult\", \"NA\"))\n",
    "  )\n",
    "}\n",
    "\n",
    "#Validating the input\n",
    "validate_input <- function(Sex, Pclass, Age)\n",
    "{\n",
    "  Sex = (Sex %in% c(\"male\", \"female\"))\n",
    "  Pclass = (Pclass %in% c(1,2,3))\n",
    "  Age = (Age >= 0 && Age <= 100 | is.na(Age))\n",
    "  if(all(c(Sex, Pclass, Age)))\n",
    "  {\n",
    "    return(\"OK\")\n",
    "  }\n",
    "  else\n",
    "  {\n",
    "    errorStat <- \"Sex must be either male or female,\n",
    "                  Pclass must be either 1,2 or 3,\n",
    "                  Age must be a number between 0 to 100 or NA\"\n",
    "    return(errorStat)\n",
    "  }\n",
    "}\n",
    "\n",
    "library(jsonlite)\n",
    "#' Pass the input parameters. Validate the inputs\n",
    "#' @param Sex = \"male/female\"\n",
    "#' @param Pclas = \"1/2/3\"\n",
    "#' @param Age = \"number between 0 and 100 or NA\"\n",
    "#' @get /survival\n",
    "predict_survival <- function(Sex = NULL, Pclass = NULL, Age = NA) {\n",
    "  age = as.integer(Age)\n",
    "  pclass = as.integer(Pclass)\n",
    "  sex = tolower(Sex)\n",
    "  valid_input <- validate_input(sex, pclass, age)\n",
    "  if (valid_input[1] == \"OK\") \n",
    "  {\n",
    "    data <- data.frame(Age=age, Pclass=pclass, Sex=sex)\n",
    "    clean_data <- transformTitanicData(data)\n",
    "    prediction <- predict(titanic_model, clean_data, type = \"response\")\n",
    "    result <- list(\n",
    "      input = list(data),\n",
    "      output = list(\"Survival Probability\" = unbox(prediction),\n",
    "                      \"Model Accuracy\" = print(msg)),\n",
    "      status = 200\n",
    "      )\n",
    "  } \n",
    "  else \n",
    "  {\n",
    "      result <- list(\n",
    "      input = list(Age = Age, Pclass = Pclass, Sex = Sex), \n",
    "      output = list(input_error = valid_input), \n",
    "      status = 400 \n",
    "      )\n",
    "  }\n",
    "  return(result)\n",
    "}\n",
    "\n",
    "#' Plot Conusion Matrix\n",
    "#' @get /plot\n",
    "#' @png\n",
    "function()\n",
    "{\n",
    "  library(caret)\n",
    "  cm <- confusionMatrix(test_predict_titanic, test_set$Survived)\n",
    "  lvs <- c(\"Survived\", \"Not Survived\")\n",
    "  truth <- factor(rep(lvs, times = c(109,159)), levels = rev(lvs))\n",
    "  pred <- factor(c(rep(lvs, times = c(52, 57)), rep(lvs, times = c(9, 150))), levels = rev(lvs))\n",
    "  xtab <- table(pred, truth)\n",
    "  cm <- confusionMatrix(pred, truth)\n",
    "  cm$table\n",
    "  fourfoldplot(cm$table, color = c(\"yellow\", \"red\"), conf.level = 0, margin = 1, main = \"Confusion Matrix\")\n",
    "}\n",
    "  "
   ]
  },
  {
   "cell_type": "markdown",
   "metadata": {},
   "source": [
    "Let's create the second file (router.R). This file reads the API definitions, routes the request to the endpoint and starts the webserver on the specified port."
   ]
  },
  {
   "cell_type": "code",
   "execution_count": 16,
   "metadata": {},
   "outputs": [
    {
     "ename": "ERROR",
     "evalue": "Error in plumb(\"titanic_API.R\"): File does not exist: titanic_API.R\n",
     "output_type": "error",
     "traceback": [
      "Error in plumb(\"titanic_API.R\"): File does not exist: titanic_API.R\nTraceback:\n",
      "1. plumb(\"titanic_API.R\")",
      "2. stop(\"File does not exist: \", file)"
     ]
    }
   ],
   "source": [
    "#router.R\n",
    "\n",
    "#Runs the webserver on http://localhost:8000/\n",
    "library(plumber)\n",
    "API_model <- plumb(\"titanic_API.R\")\n",
    "API_model$run(port = 8000)"
   ]
  },
  {
   "cell_type": "markdown",
   "metadata": {},
   "source": [
    "You should be seeing this on your output console:\n",
    "\n",
    "**Starting server to listen on port 8000**\n",
    "\n",
    "**Running the swagger UI at http://127.0.0.1:8000/__swagger__/**"
   ]
  },
  {
   "cell_type": "markdown",
   "metadata": {},
   "source": [
    "# Validating the API results\n",
    "\n",
    "1. Typing the URL in the **Web browser**:\n",
    "\n",
    "     - You can access the landing page by typing the following URL:\n",
    "    > **http://localhost:8000/welcome** \n",
    "    \n",
    "    > ![API Landing Screen](Images/API_Landing_Page.png)\n",
    "\n",
    "     - You can view the Survival Probability and Model Accuracy by typing the following URL:\n",
    "    > You will have to pass the input parameters as query string.\n",
    "    \n",
    "    > (a)For valid input - **http://localhost:8000/survival?Sex=female&Pclass=2&Age=50**\n",
    "    \n",
    "    > ![API Survival Page with valid inputs](Images/API_Survival_Page_Web.png)\n",
    "    \n",
    "    > (b)For invalid input - **http://localhost:8000/survival?Sex=female&Pclass=4&Age=50**\n",
    "    \n",
    "    > ![API Survival Page with invalid inputs](Images/API_Survival_invalidInputs_Web.png)\n",
    "    \n",
    "     - You can view the Confusion Matrix by typing the following URL:\n",
    "     > **http://localhost:8000/plot**\n",
    "     \n",
    "     >![Confusion Matrix](Images/Confusion-Matrix.png)\n",
    "     \n",
    "\n",
    "2. Use the **curl** command:\n",
    "\n",
    "     - Open the command prompt and enter the following command to view the landing page:\n",
    "    > **curl -X GET http://localhost:8000/welcome**\n",
    "   \n",
    "     - Open the command prompt and enter the following command to obtain the Survival Probability and Model   Accuracy: \n",
    "    > (a)For valid input - **curl -X GET http://localhost:8000/survival -d '{\"Sex\":\"female\", \"Pclass\": 2, \"Age\": 25}'** \n",
    "    \n",
    "    > ![API Survival Page with invalid inputs](Images/API_Survival_validInputs_cmd.png)\n",
    "    \n",
    "    > (b)For invalid input - **curl -X GET http://localhost:8000/survival -d '{\"Sex\":\"male\", \"Pclass\": 3, \"Age\": 150}'**\n",
    "    \n",
    "    > ![API Survival Page with invalid inputs](Images/API_Survival_invalidInputs_cmd.png)\n",
    "    \n",
    "    \n",
    "3. Using a client such as **POSTMAN**:\n",
    "    \n",
    "    > Check the **[Download](https://www.getpostman.com/downloads/)** and \n",
    "    **[Installation](https://learning.getpostman.com/docs/postman/launching_postman/installation_and_updates/)** pages for getting started with POSTMAN.\n",
    "    > Once you have successfully installed and launched the POSTMAN app, enter the urls as necessary to fetch the       corresponding responses.\n",
    "        \n",
    "    > ![API Survival Page with valid inputs](Images/API_Survival_validInputs_Postman.png)\n",
    "    \n",
    "    > ![API Survival Page with invalid inputs](Images/API_Survival_invalidInputs_Postman.png)"
   ]
  },
  {
   "cell_type": "markdown",
   "metadata": {},
   "source": [
    "# Summing it up with a Flow Diagram\n",
    "\n",
    "We have successfully built a model, exposed our model as an API and validated the API test!\n",
    "\n",
    "Let me sum up the entire process in a **flow diagram**\n",
    "\n",
    "![Entire Process Flow](Images/Process-Flow.png)"
   ]
  },
  {
   "cell_type": "markdown",
   "metadata": {},
   "source": [
    "# Closing Remarks\n",
    "\n",
    "We have seen the ease of using Plumber to create web APIs and expose our R functions as APIs with a simple example. \n",
    "For more information on Plumber package read up the **[Plumber Documentation](https://www.rplumber.io)**.\n",
    "\n",
    "Here are a few other packages in R that help in exposing R models through API development:\n",
    "\n",
    "**1. [DeployR](https://docs.microsoft.com/en-us/machine-learning-server/deployr/deployr-about)** - It is Microsoft's integration platform for R analytics inside web, mobile, desktop, dashboard as well as backend applications.\n",
    "\n",
    "**2. [OpenCPU](https://www.opencpu.org/)** - Provides reliable and interoperable HTTP APIs for data analysis based on R. One of the likely one to choose for production.\n",
    "\n",
    "**3. [Shiny](http://shiny.rstudio.com/)** - It is an R package that helps build interactive web applications from R.\n",
    "\n",
    "**4. [rApache](https://www.r-bloggers.com/exposing-r-script-as-api/)** - It is a project supporting web application development using the R.  "
   ]
  }
 ],
 "metadata": {
  "kernelspec": {
   "display_name": "R",
   "language": "R",
   "name": "ir"
  },
  "language_info": {
   "codemirror_mode": "r",
   "file_extension": ".r",
   "mimetype": "text/x-r-source",
   "name": "R",
   "pygments_lexer": "r",
   "version": "3.4.4"
  }
 },
 "nbformat": 4,
 "nbformat_minor": 2
}
