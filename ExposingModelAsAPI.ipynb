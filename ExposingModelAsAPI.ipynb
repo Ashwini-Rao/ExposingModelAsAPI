{
 "cells": [
  {
   "cell_type": "markdown",
   "metadata": {},
   "source": [
    "# Why Expose A Model As API ? Understanding this...\n",
    "\n",
    "R is one of the most widely used programming language for data analysis and visualizations and so is used by a majority of the data scientists to build ML models for prediction and forecasting purposes. \n",
    "\n",
    "The end consumers of these models maybe software developers using a different technology stack or others with no domain expertise in data science and ML algorithms.\n",
    "\n",
    "You could replicate the code into other programming languages used widely around the world by software developers but here lies the problem - Majority of the programming languages do not have libraries to perform ML.\n",
    "\n",
    "So one good solution is to expose the model as API. The most common type of API is REST/RESTful API. \n",
    "REST APIs allow two applications each other over the Internet using HTTP as their protocol.\n",
    "In simpler terms, they deliver the requests from client to the server (specified in the URL) and then deliver the responses (as requested in the method - GET, PUT, POST) back to the client.\n",
    "\n",
    "By exposing the R Model as API, we can let other applications to use model for the purposes it is designed for without worrying abut the underlying environment/architecture. \n",
    "\n",
    "\n"
   ]
  },
  {
   "cell_type": "markdown",
   "metadata": {},
   "source": [
    "# How to expose R Model As API ? Let's get started...\n",
    "Do we have a package in R to help with this ? The answer is yes.\n",
    "\n",
    "Plumber is package that "
   ]
  }
 ],
 "metadata": {
  "kernelspec": {
   "display_name": "Python 3",
   "language": "python",
   "name": "python3"
  },
  "language_info": {
   "codemirror_mode": {
    "name": "ipython",
    "version": 3
   },
   "file_extension": ".py",
   "mimetype": "text/x-python",
   "name": "python",
   "nbconvert_exporter": "python",
   "pygments_lexer": "ipython3",
   "version": "3.6.7"
  }
 },
 "nbformat": 4,
 "nbformat_minor": 2
}
