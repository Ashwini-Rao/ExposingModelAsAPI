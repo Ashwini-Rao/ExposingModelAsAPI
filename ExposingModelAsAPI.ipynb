{
 "cells": [
  {
   "cell_type": "markdown",
   "metadata": {},
   "source": [
    "# Why Expose A Model As API?\n",
    "\n",
    "R is widely used for data science and deploying models into production. The end users are typically IT and enterprise software that need to consume solutions that can be easily integrated with their software.\n",
    "\n",
    "You can replicate the code into other programming languages used widely around the world by software developers but here lies the problem - Majority of the programming languages do not have libraries to perform ML!!!\n",
    "\n",
    "So one good solution is to expose the model as API. The most common type of API is REST/RESTful API. REST APIs allow two applications each other over the Internet using HTTP as their protocol. In simpler terms, they deliver the requests from client to the server (specified in the URL) and then deliver the responses (as requested in the method - GET, PUT, POST) back to the client.\n",
    "\n",
    "By exposing the R Model as API, we can let other applications to use model for the purposes it is designed for without worrying abut the underlying environment/architecture."
   ]
  },
  {
   "cell_type": "markdown",
   "metadata": {},
   "source": [
    "# Using Rest APIs to expose model as a service\n",
    "\n",
    "Do we have a package in R to help with this? The answer is yes. Which one? the answer is \"Plumber\"\n",
    "\n",
    "Plumber is straightforward and easy to use. It is an open source package that lets you create APIs by decorating the R functions with special annotations/comments. Comments can be prefixed with \"#'\" or \"#*\", \"#'\" is recommended. To read more, refer [rplumber](https://www.rplumber.io/)\n",
    "\n",
    "Install the plumber package by typing: \n"
   ]
  },
  {
   "cell_type": "code",
   "execution_count": null,
   "metadata": {},
   "outputs": [],
   "source": [
    "install.packages(\"plumber\") "
   ]
  },
  {
   "cell_type": "markdown",
   "metadata": {},
   "source": [
    "To start using it, type : "
   ]
  },
  {
   "cell_type": "code",
   "execution_count": 1,
   "metadata": {},
   "outputs": [],
   "source": [
    "library(\"plumber\")"
   ]
  },
  {
   "cell_type": "markdown",
   "metadata": {},
   "source": [
    "Before we can start using Plumber to create APIs, we need a trained ML model.\n",
    "Let's begin with training a simple model for the [Classic Titanic problem from Kaggle](https://www.kaggle.com/c/titanic/data) which predicts the Survival on the Titanic.\n",
    "\n",
    "\n"
   ]
  },
  {
   "cell_type": "code",
   "execution_count": 9,
   "metadata": {},
   "outputs": [
    {
     "name": "stdout",
     "output_type": "stream",
     "text": [
      "'data.frame':\t891 obs. of  12 variables:\n",
      " $ PassengerId: int  1 2 3 4 5 6 7 8 9 10 ...\n",
      " $ Survived   : int  0 1 1 1 0 0 0 0 1 1 ...\n",
      " $ Pclass     : int  3 1 3 1 3 3 1 3 3 2 ...\n",
      " $ Name       : Factor w/ 891 levels \"Abbing, Mr. Anthony\",..: 109 191 358 277 16 559 520 629 417 581 ...\n",
      " $ Sex        : Factor w/ 2 levels \"female\",\"male\": 2 1 1 1 2 2 2 2 1 1 ...\n",
      " $ Age        : num  22 38 26 35 35 NA 54 2 27 14 ...\n",
      " $ SibSp      : int  1 1 0 1 0 0 0 3 0 1 ...\n",
      " $ Parch      : int  0 0 0 0 0 0 0 1 2 0 ...\n",
      " $ Ticket     : Factor w/ 681 levels \"110152\",\"110413\",..: 524 597 670 50 473 276 86 396 345 133 ...\n",
      " $ Fare       : num  7.25 71.28 7.92 53.1 8.05 ...\n",
      " $ Cabin      : Factor w/ 148 levels \"\",\"A10\",\"A14\",..: 1 83 1 57 1 1 131 1 1 1 ...\n",
      " $ Embarked   : Factor w/ 4 levels \"\",\"C\",\"Q\",\"S\": 4 2 4 4 4 3 4 4 4 2 ...\n"
     ]
    }
   ],
   "source": [
    "#Read the dataset\n",
    "titanic_data <- read.csv(\"/home/ashwini/my-progs/train.csv\")\n",
    "\n",
    "#View the data types of variables\n",
    "str(titanic_data)\n",
    "\n",
    "#Preprocess the data, i.e clean the NA/missing values, convert all variables to factor \n",
    "#variables and include only the significant variables in the model.\n",
    "changeTitanicData <- function(input_titantic_data) {\n",
    "  cleaned_titanic_data <- data.frame(\n",
    "    Sex = factor(input_titantic_data$Sex, levels = c(\"male\", \"female\")),\n",
    "    Pclass = factor(input_titantic_data$Pclass, levels = c(\"1\", \"2\", \"3\")),\n",
    "    Age = factor(dplyr::if_else(input_titantic_data$Age < 18, \"child\", \"adult\", \"unknown\"), \n",
    "                  levels = c(\"child\", \"adult\", \"unknown\"))\n",
    "    )\n",
    "}\n",
    "\n",
    "\n",
    "processed_titanic_data <- changeTitanicData(titanic_data) \n"
   ]
  },
  {
   "cell_type": "code",
   "execution_count": 6,
   "metadata": {},
   "outputs": [],
   "source": [
    "#Split the data into 2 sets - train and test\n",
    "split_set <- sample(1:nrow(processed_titanic_data), size = floor(0.7*nrow(processed_titanic_data)))\n",
    "train_set <- processed_titanic_data[split_set, ]\n",
    "test_set <- processed_titanic_data[-split_set, ]"
   ]
  },
  {
   "cell_type": "code",
   "execution_count": 13,
   "metadata": {},
   "outputs": [],
   "source": [
    "#Train the model using RandomForest algorithm\n",
    "#Install 'RandomForest' package. Only for the first time \n",
    "#install.packages('randomForest')\n",
    "library(randomForest)\n",
    "\n",
    "set.seed(415)\n",
    "titanic_rf <- randomForest(Survived ~ Sex + Pclass + Age, data = train_set, importance = TRUE, na.action = NULL)"
   ]
  },
  {
   "cell_type": "code",
   "execution_count": 14,
   "metadata": {},
   "outputs": [
    {
     "name": "stdout",
     "output_type": "stream",
     "text": [
      "                    test_actual\n",
      "test_predict_titanic FALSE TRUE\n",
      "                   0   113   32\n",
      "                   1    11   50\n",
      "[1] \"Accuracy: 79.13%\"\n"
     ]
    }
   ],
   "source": [
    "#Evaluate the model\n",
    "test_predict_titanic <- predict(titanic_rf, newdata = test_set, type = \"response\") \n",
    "test_actual <- test_set$Survived == 1\n",
    "\n",
    "#Calculate the model accuracy\n",
    "model_accuracy <- table(test_predict_titanic, test_actual)\n",
    "print(model_accuracy)\n",
    "msg <- paste0(\"Accuracy: \", round(100 * sum(diag(model_accuracy))/sum(model_accuracy), 2), \"%\")\n",
    "print(msg)\n"
   ]
  },
  {
   "cell_type": "code",
   "execution_count": null,
   "metadata": {},
   "outputs": [],
   "source": [
    "#Save the model, can be loaded into a variable\n",
    "saveRDS(titanic_rf, file = \"random_forest_titanic_model.Rds\", compress = TRUE)"
   ]
  },
  {
   "cell_type": "markdown",
   "metadata": {},
   "source": [
    "# Creating Plumber APIs\n",
    "\n",
    "Plumber uses two files:\n",
    "1. A file containing the API endpoint definitions, i.e the functions/model that you want to expose.\n",
    "2. A server file also called router, i.e one that reads these definitions and spins up a web server to process the request.\n",
    "\n",
    "How does Plumber work?\n",
    "Plumber has two distinct functions to process the incoming HTTP request:\n",
    "1. Endpoints- \n",
    "    It can be viewed as a process encapsulating the logic responsible for generating the response.\n",
    "2. Filters-\n",
    "    It can be viewed as a pipeline for handling the incoming request. It can do the following 3 things as part of     request handling:\n",
    "    (a)Forward the request to next filter or endpoint.\n",
    "    (b)Throw an error\n",
    "    (c)Return the response by itself, not forward\n",
    "\n",
    "When a HTTP request is received, Plumber passes the request to all the defined filters. Once the request has processed/handled by the filters, Plumber router looks for an endpoint that can satisfy the request. If it finds one, that endpoint is invoked and the value returned by the endpoint is returned as response. If no endpoint is available to process the request, the standard HTTP error 404 is returned. To read more, refer [Routing and Input](https://www.rplumber.io/docs/routing-and-input.html).\n",
    "    \n",
    "Let's start by creating the API file. This file includes special annotations as mentioned earlier. The functions defined below it are exposed as API. I'll save the file as titanic_API.R\n"
   ]
  },
  {
   "cell_type": "code",
   "execution_count": null,
   "metadata": {},
   "outputs": [],
   "source": [
    "#titanic_API.R\n",
    "\n",
    "library(\"plumber\")\n",
    "titanic_model <- readRDS(\"random_forest_titanic_model.Rds\")\n",
    "\n",
    "#' Landing Page with a description\n",
    "#' @get /welcome\n",
    "#' @html\n",
    "function(){\n",
    "  \"<html>\n",
    "    <h1><center>\n",
    "    <b>Predicting Survival on Titanic dataset using Random Forest</b></center>\n",
    "    </h1>\n",
    "\n",
    "    <body>\n",
    "      </br>\n",
    "      <p>This model predicts the Survival probability of the passengers on Titanic given the \n",
    "        Age (in years), Sex (male/female) and Pclass (ticket class).</p>\n",
    "      <p>It also outputs the model accuracy.</p>\n",
    "      </br></br>\n",
    "      <p>Provide the the following inputs :</p>\n",
    "      <p>Sex = male/female</p>\n",
    "      <p>Pclass = 1/2/3</p>\n",
    "      <p>Age = number between 0 to 100 or NA if Age is unknown</p>\n",
    "      </br></br>\n",
    "      <p>What can you expect?</p>\n",
    "      <p>Survival Probability, a value <b>0</b> (not survived) or <b>1</b> (survived)</p>\n",
    "      <p>Model Accuracy in %</p>\n",
    "    </body>\n",
    "\n",
    "  </html>\"\n",
    "}\n",
    "\n",
    "#Validating the input\n",
    "validate_input <- function(Sex, Pclass, Age)\n",
    "{\n",
    "  Sex = (Sex %in% c(\"male\", \"female\"))\n",
    "  Pclass = (Pclass %in% c(1,2,3))\n",
    "  Age = (Age >= 0 && Age <= 100 | is.na(Age))\n",
    "  if(all(c(Sex, Pclass, Age)))\n",
    "  {\n",
    "    return(\"OK\")\n",
    "  }\n",
    "  else\n",
    "  {\n",
    "    errorStat <- \"Sex must be either male or female,\n",
    "                  Pclass must be either 1,2 or 3,\n",
    "                  Age must be a number between 0 to 100 or NA\"\n",
    "    return(errorStat)\n",
    "  }\n",
    "}\n",
    "\n",
    "library(jsonlite)\n",
    "#' Pass the input parameters. Validate the inputs\n",
    "#' @param Sex = \"male/female\"\n",
    "#' @param Pclas = \"1/2/3\"\n",
    "#' @param Age = \"number between 0 and 100 or NA\"\n",
    "#' @get /survival\n",
    "predict_survival <- function(Sex = NULL, Pclass = NULL, Age = NA) {\n",
    "  age = as.integer(Age)\n",
    "  pclass = as.integer(Pclass)\n",
    "  sex = tolower(Sex)\n",
    "  valid_input <- validate_input(sex, pclass, age)\n",
    "  if (valid_input[1] == \"OK\") \n",
    "  {\n",
    "    data <- data.frame(Age=age, Pclass=pclass, Sex=sex)\n",
    "    clean_data <- changeTitanicData(data)\n",
    "    prediction <- predict(titanic_model, clean_data, type = \"response\")\n",
    "    result <- list(\n",
    "      input = list(data),\n",
    "      output = list(\"Survival Probability\" = unbox(prediction),\n",
    "                      \"Model Accuracy\" = print(msg)),\n",
    "      status = 200\n",
    "      )\n",
    "  } \n",
    "  else \n",
    "  {\n",
    "      result <- list(\n",
    "      input = list(Age = Age, Pclass = Pclass, Sex = Sex), \n",
    "      output = list(input_error = valid_input), \n",
    "      status = 400 \n",
    "      )\n",
    "  }\n",
    "  return(result)\n",
    "}"
   ]
  },
  {
   "cell_type": "markdown",
   "metadata": {},
   "source": [
    "Let's create the second file(router.R). This file reads the API definitions, routes the request to the endpoint and starts the webserver on the specified port.\n"
   ]
  },
  {
   "cell_type": "code",
   "execution_count": null,
   "metadata": {},
   "outputs": [],
   "source": [
    "#router.R\n",
    "\n",
    "#Runs the webserver on http://localhost:8000/\n",
    "library(plumber)\n",
    "API_model <- plumb(\"titanic_API.R\")\n",
    "API_model$run(port = 8000)"
   ]
  },
  {
   "cell_type": "markdown",
   "metadata": {},
   "source": [
    "You should be seeing this on your output console:\n",
    "\n",
    "Starting server to listen on port 8000\n",
    "\n",
    "Running the swagger UI at http://127.0.0.1:8000/__swagger__/"
   ]
  },
  {
   "cell_type": "markdown",
   "metadata": {},
   "source": [
    "# Validating the API results\n",
    "\n",
    "1. Typing the URL in the web browser:\n",
    "\n",
    "    You can access the landing page by typing the following url:\n",
    "    http://localhost:8000/welcome\n",
    "    ![API Landing Screen](ExposingModelAsAPI/Images/API_Landing_Page.png)\n"
    "    Similarly you can view the Survival Probability and Model Accuracy by typing the following url:\n",
    "    You will have to pass the input parameters as query string.\n",
    "    (a)For valid input - http://localhost:8000/survival?Sex=female&Pclass=2&Age=50\n",
    "    ![API Survival Page with valid inputs](Pictures/API_Survival_Page.png)\n",
    "    \n",
    "    (b)For invalid input - http://localhost:8000/survival?Sex=female&Pclass=4&Age=50\n",
    "    ![API Survival Page with invalid inputs](Pictures/API_Survival_InvalidInputs.png)\n",
    "\n",
    "2. Use the curl command:\n",
    "\n",
    "    Open the command prompt and enter the following command to view the landing page:\n",
    "    curl -X GET http://localhost:8000/welcome\n",
    "   \n",
    "    Open the command prompt and enter the following command to obtain the Survival Probability and Model Accuracy: \n",
    "    (a)For valid input - curl -X GET http://localhost:8000/survival -d '{\"Sex\":\"female\", \"Pclass\": 2, \"Age\": 25}' \n",
    "    ![API Survival Page with invalid inputs](Pictures/cmd_API_survival_validInputs.png)\n",
    "    \n",
    "    (b)For invalid input - curl -X GET http://localhost:8000/survival -d '{\"Sex\":\"male\", \"Pclass\": 3, \"Age\": 150}'\n",
    "    ![API Survival Page with invalid inputs](Pictures/cmd_API_Survival_InvalidInputs.png)\n",
    "    \n",
    "    \n",
    "3. Using a client such as POSTMAN:\n",
    "    \n",
    "    Check the [Download](https://www.getpostman.com/downloads/) and [Installation]          (https://learning.getpostman.com/docs/postman/launching_postman/installation_and_updates/) pages for getting    started with POSTMAN.\n",
    "    Once you have successfully installed and launched the POSTMAN app, enter the urls as necessary to fetch the       corresponding responses.\n",
    "        \n",
    "    ![API Survival Page with valid inputs](Pictures/API_Survival_Postman.png)\n",
    "    \n",
    "    ![API Survival Page with invalid inputs](Pictures/API_Survival_Invalid_Inputs_Postman.png)"
   ]
  },
  {
   "cell_type": "markdown",
   "metadata": {},
   "source": [
    "# Summing it up with a Flow Diagram\n",
    "\n",
    "We have successfully built a model, exposed our model as an API and validated the API test!\n",
    "\n",
    "Let me sum up the entire process in a flow diagram\n",
    "\n",
    "![Entire Process Flow](Downloads/FlowDiagram.png)"
   ]
  },
  {
   "cell_type": "markdown",
   "metadata": {},
   "source": [
    "# Closing Remarks\n",
    "\n",
    "We have seen the ease of using Plumber to create web APIs and expose our R functions as APIs with a simple example. \n",
    "For more information on Plumber package read up the [Plumber Documentation](https://www.rplumber.io).\n",
    "\n",
    "Here are a few other packages in R that help in exposing R models through API development:\n",
    "1. [DeployR](https://docs.microsoft.com/en-us/machine-learning-server/deployr/deployr-about) - It is Microsoft's      integration platform for R analytics inside web, mobile, desktop, dashboard as well as backend applications.\n",
    "2. [OpenCPU](https://www.opencpu.org/) - Provides reliable and interoperable HTTP APIs for data analysis based on    R. One of the likely one to choose for production.\n",
    "3. [Shiny](http://shiny.rstudio.com/) - It is an R package that help build interactive web applications from R.\n",
    "4. [rApache](https://www.r-bloggers.com/exposing-r-script-as-api/) - It is a project supporting web application      development using the R.  "
   ]
  }
 ],
 "metadata": {
  "kernelspec": {
   "display_name": "Python 3",
   "language": "python",
   "name": "python3"
  },
  "language_info": {
   "codemirror_mode": {
    "name": "ipython",
    "version": 3
   },
   "file_extension": ".py",
   "mimetype": "text/x-python",
   "name": "python",
   "nbconvert_exporter": "python",
   "pygments_lexer": "ipython3",
   "version": "3.6.7"
  }
 },
 "nbformat": 4,
 "nbformat_minor": 2
}
