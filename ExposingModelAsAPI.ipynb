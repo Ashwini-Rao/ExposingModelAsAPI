{
 "cells": [
  {
   "cell_type": "markdown",
   "metadata": {},
   "source": [
    "# Why Expose A Model As API?\n",
    "\n",
    "R is widely used for data science and deploying models into production. The end users are typically IT and enterprise software that need to consume solutions that can be easily integrated with their software.\n",
    "\n",
    "You can replicate the code into other programming languages used widely around the world by software developers but here lies the problem - Majority of the programming languages do not have libraries to perform ML!!!\n",
    "\n",
    "So one good solution is to expose the model as API. The most common type of API is REST/RESTful API. REST APIs allow two applications each other over the Internet using HTTP as their protocol. In simpler terms, they deliver the requests from client to the server (specified in the URL) and then deliver the responses (as requested in the method - GET, PUT, POST) back to the client.\n",
    "\n",
    "By exposing the R Model as API, we can let other applications to use model for the purposes it is designed for without worrying abut the underlying environment/architecture."
   ]
  },
  {
   "cell_type": "markdown",
   "metadata": {},
   "source": [
    "# Using Rest APIs to expose model as a service\n",
    "\n",
    "Do we have a package in R to help with this? The answer is yes. Which one? the answer is \"Plumber\"\n",
    "\n",
    "Plumber is straightforward and easy to use. It is an open source package that lets you create APIs by decorating the R functions with special annotations/comments. Comments can be prefixed with \"#'\" or \"#*\", \"#'\" is recommended. To read more, refer [rplumber](https://www.rplumber.io/)\n",
    "\n",
    "Install the plumber package by typing: \n"
   ]
  },
  {
   "cell_type": "code",
   "execution_count": null,
   "metadata": {},
   "outputs": [],
   "source": [
    "install.packages(\"plumber\") "
   ]
  },
  {
   "cell_type": "markdown",
   "metadata": {},
   "source": [
    "To start using it, type : "
   ]
  },
  {
   "cell_type": "code",
   "execution_count": 1,
   "metadata": {},
   "outputs": [],
   "source": [
    "library(\"plumber\")"
   ]
  },
  {
   "cell_type": "markdown",
   "metadata": {},
   "source": [
    "Before we can start using Plumber to create APIs, we need a trained ML model.\n",
    "Let's begin with training a simple model for the [Classic Titanic problem from Kaggle](https://www.kaggle.com/c/titanic/data) which predicts the Survival on the Titanic.\n",
    "\n",
    "\n"
   ]
  },
  {
   "cell_type": "code",
   "execution_count": 9,
   "metadata": {},
   "outputs": [
    {
     "name": "stdout",
     "output_type": "stream",
     "text": [
      "'data.frame':\t891 obs. of  12 variables:\n",
      " $ PassengerId: int  1 2 3 4 5 6 7 8 9 10 ...\n",
      " $ Survived   : int  0 1 1 1 0 0 0 0 1 1 ...\n",
      " $ Pclass     : int  3 1 3 1 3 3 1 3 3 2 ...\n",
      " $ Name       : Factor w/ 891 levels \"Abbing, Mr. Anthony\",..: 109 191 358 277 16 559 520 629 417 581 ...\n",
      " $ Sex        : Factor w/ 2 levels \"female\",\"male\": 2 1 1 1 2 2 2 2 1 1 ...\n",
      " $ Age        : num  22 38 26 35 35 NA 54 2 27 14 ...\n",
      " $ SibSp      : int  1 1 0 1 0 0 0 3 0 1 ...\n",
      " $ Parch      : int  0 0 0 0 0 0 0 1 2 0 ...\n",
      " $ Ticket     : Factor w/ 681 levels \"110152\",\"110413\",..: 524 597 670 50 473 276 86 396 345 133 ...\n",
      " $ Fare       : num  7.25 71.28 7.92 53.1 8.05 ...\n",
      " $ Cabin      : Factor w/ 148 levels \"\",\"A10\",\"A14\",..: 1 83 1 57 1 1 131 1 1 1 ...\n",
      " $ Embarked   : Factor w/ 4 levels \"\",\"C\",\"Q\",\"S\": 4 2 4 4 4 3 4 4 4 2 ...\n"
     ]
    }
   ],
   "source": [
    "#Read the dataset\n",
    "titanic_data <- read.csv(\"/home/ashwini/my-progs/train.csv\")\n",
    "\n",
    "#View the data types of variables\n",
    "str(titanic_data)\n",
    "\n",
    "#Preprocess the data, i.e clean the NA/missing values, convert all variables to factor \n",
    "#variables and include only the significant variables in the model.\n",
    "changeTitanicData <- function(input_titantic_data) {\n",
    "  cleaned_titanic_data <- data.frame(\n",
    "    Sex = titanic_data$Sex,\n",
    "    Pclass = as.factor(titanic_data$Pclass),\n",
    "    Age = factor(dplyr::if_else(titanic_data$Age < 18, \"child\", \"adult\", \"NA\"), \n",
    "                  levels = c(\"child\", \"adult\", \"unknown\")),\n",
    "    Survived = as.factor(titanic_data$Survived)\n",
    "  )\n",
    "}\n",
    "\n",
    "processed_titanic_data <- changeTitanicData(titanic_data) \n"
   ]
  },
  {
   "cell_type": "code",
   "execution_count": 6,
   "metadata": {},
   "outputs": [],
   "source": [
    "#Split the data into 2 sets - train and test\n",
    "split_set <- sample(1:nrow(processed_titanic_data), size = floor(0.7*nrow(processed_titanic_data)))\n",
    "train_set <- processed_titanic_data[split_set, ]\n",
    "test_set <- processed_titanic_data[-split_set, ]"
   ]
  },
  {
   "cell_type": "code",
   "execution_count": 13,
   "metadata": {},
   "outputs": [],
   "source": [
    "#Train the model using RandomForest algorithm\n",
    "#Install 'RandomForest' package. Only for the first time \n",
    "#install.packages('randomForest')\n",
    "library(randomForest)\n",
    "\n",
    "set.seed(415)\n",
    "titanic_rf <- randomForest(Survived ~ Sex + Pclass + Age, data = train_set, importance = TRUE, na.action = NULL)"
   ]
  },
  {
   "cell_type": "code",
   "execution_count": 14,
   "metadata": {},
   "outputs": [
    {
     "name": "stdout",
     "output_type": "stream",
     "text": [
      "                    test_actual\n",
      "test_predict_titanic FALSE TRUE\n",
      "                   0   113   32\n",
      "                   1    11   50\n",
      "[1] \"Accuracy: 79.13%\"\n"
     ]
    }
   ],
   "source": [
    "#Evaluate the model\n",
    "test_predict_titanic <- predict(titanic_rf, newdata = test_set, type = \"response\") \n",
    "test_actual <- test_set$Survived == 1\n",
    "\n",
    "#Calculate the model accuracy\n",
    "model_accuracy <- table(test_predict_titanic, test_actual)\n",
    "print(model_accuracy)\n",
    "print(paste0(\"Accuracy: \", round(100 * sum(diag(model_accuracy))/sum(model_accuracy), 2), \"%\"))\n"
   ]
  },
  {
   "cell_type": "code",
   "execution_count": null,
   "metadata": {},
   "outputs": [],
   "source": [
    "#Save the model\n",
    "save(titanic_rf, file = \"random_forest_titanic_problem.RData\")"
   ]
  }
 ],
 "metadata": {
  "kernelspec": {
   "display_name": "Python 3",
   "language": "python",
   "name": "python3"
  },
  "language_info": {
   "codemirror_mode": {
    "name": "ipython",
    "version": 3
   },
   "file_extension": ".py",
   "mimetype": "text/x-python",
   "name": "python",
   "nbconvert_exporter": "python",
   "pygments_lexer": "ipython3",
   "version": "3.6.7"
  }
 },
 "nbformat": 4,
 "nbformat_minor": 2
}
